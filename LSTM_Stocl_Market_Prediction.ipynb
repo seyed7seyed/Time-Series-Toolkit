{
 "cells": [
  {
   "cell_type": "markdown",
   "metadata": {},
   "source": [
    "#####   \n",
    "<span style=\"font-family:Arial; font-weight:Bold; font-size:2.5em; color:#00b3e5;\"> LSTM - Stock Market Prediction"
   ]
  },
  {
   "cell_type": "code",
   "execution_count": 91,
   "metadata": {},
   "outputs": [],
   "source": [
    "import numpy as np\n",
    "import pandas as pd\n",
    "import matplotlib.pyplot as plt"
   ]
  },
  {
   "cell_type": "code",
   "execution_count": 92,
   "metadata": {},
   "outputs": [
    {
     "data": {
      "text/plain": [
       "(1258, 1)"
      ]
     },
     "execution_count": 92,
     "metadata": {},
     "output_type": "execute_result"
    }
   ],
   "source": [
    "dataset_train = pd.read_csv('Google_Stock_Price_Train.csv')\n",
    "training_set = dataset_train.iloc[:,1:2].values\n",
    "training_set.shape"
   ]
  },
  {
   "cell_type": "code",
   "execution_count": 93,
   "metadata": {},
   "outputs": [],
   "source": [
    "from sklearn.preprocessing import MinMaxScaler\n",
    "sc = MinMaxScaler(feature_range=(0,1))\n",
    "training_set_scaled = sc.fit_transform(training_set)"
   ]
  },
  {
   "cell_type": "code",
   "execution_count": 94,
   "metadata": {},
   "outputs": [
    {
     "data": {
      "text/plain": [
       "(1198, 60)"
      ]
     },
     "execution_count": 94,
     "metadata": {},
     "output_type": "execute_result"
    }
   ],
   "source": [
    "x_train, y_train = [], []\n",
    "for i in range(60,1258):\n",
    "    x_train.append(training_set_scaled[i-60:i,0])\n",
    "    y_train.append(training_set_scaled[i,0])\n",
    "x_train, y_train = np.array(x_train), np.array(y_train)\n",
    "x_train.shape"
   ]
  },
  {
   "cell_type": "code",
   "execution_count": 95,
   "metadata": {},
   "outputs": [
    {
     "data": {
      "text/plain": [
       "(1198, 60, 1)"
      ]
     },
     "execution_count": 95,
     "metadata": {},
     "output_type": "execute_result"
    }
   ],
   "source": [
    "x_train = np.reshape(x_train, (x_train.shape[0],x_train.shape[1],1))\n",
    "x_train.shape"
   ]
  },
  {
   "cell_type": "code",
   "execution_count": 98,
   "metadata": {},
   "outputs": [],
   "source": [
    "from keras.models import Sequential\n",
    "from keras.layers import LSTM, Dense, Dropout"
   ]
  },
  {
   "cell_type": "code",
   "execution_count": 128,
   "metadata": {},
   "outputs": [
    {
     "name": "stdout",
     "output_type": "stream",
     "text": [
      "Model: \"sequential_22\"\n",
      "_________________________________________________________________\n",
      " Layer (type)                Output Shape              Param #   \n",
      "=================================================================\n",
      " lstm_43 (LSTM)              (None, 60, 50)            10400     \n",
      "                                                                 \n",
      " dropout_24 (Dropout)        (None, 60, 50)            0         \n",
      "                                                                 \n",
      " lstm_44 (LSTM)              (None, 60, 50)            20200     \n",
      "                                                                 \n",
      " dropout_25 (Dropout)        (None, 60, 50)            0         \n",
      "                                                                 \n",
      " lstm_45 (LSTM)              (None, 60, 50)            20200     \n",
      "                                                                 \n",
      " dropout_26 (Dropout)        (None, 60, 50)            0         \n",
      "                                                                 \n",
      " lstm_46 (LSTM)              (None, 60, 50)            20200     \n",
      "                                                                 \n",
      " dropout_27 (Dropout)        (None, 60, 50)            0         \n",
      "                                                                 \n",
      " lstm_47 (LSTM)              (None, 50)                20200     \n",
      "                                                                 \n",
      " dropout_28 (Dropout)        (None, 50)                0         \n",
      "                                                                 \n",
      " dense_38 (Dense)            (None, 1)                 51        \n",
      "                                                                 \n",
      "=================================================================\n",
      "Total params: 91,251\n",
      "Trainable params: 91,251\n",
      "Non-trainable params: 0\n",
      "_________________________________________________________________\n"
     ]
    }
   ],
   "source": [
    "model = Sequential()\n",
    "\n",
    "model.add( LSTM(units=50, return_sequences=True, input_shape=(x_train.shape[1],1) ) )\n",
    "model.add( Dropout(0.2) )\n",
    "\n",
    "model.add( LSTM(units=50, return_sequences=True ) )\n",
    "model.add( Dropout(0.2) )\n",
    "model.add( LSTM(units=50, return_sequences=True ) )\n",
    "model.add( Dropout(0.2) )\n",
    "model.add( LSTM(units=50, return_sequences=True ) )\n",
    "model.add( Dropout(0.2) ) \n",
    "\n",
    "model.add( LSTM(units=50 ) )\n",
    "model.add( Dropout(0.2) )\n",
    "\n",
    "model.add( Dense(units=1) )\n",
    "          \n",
    "model.summary()"
   ]
  },
  {
   "cell_type": "code",
   "execution_count": 129,
   "metadata": {},
   "outputs": [],
   "source": [
    "model.compile(\n",
    "    optimizer = 'adam',\n",
    "    loss = 'mean_squared_error'\n",
    "             )"
   ]
  },
  {
   "cell_type": "code",
   "execution_count": 174,
   "metadata": {
    "scrolled": true
   },
   "outputs": [
    {
     "name": "stdout",
     "output_type": "stream",
     "text": [
      "Epoch 1/10\n",
      "19/19 [==============================] - 5s 242ms/step - loss: 9.8774e-04\n",
      "Epoch 2/10\n",
      "19/19 [==============================] - 5s 250ms/step - loss: 0.0011\n",
      "Epoch 3/10\n",
      "19/19 [==============================] - 5s 255ms/step - loss: 0.0011\n",
      "Epoch 4/10\n",
      "19/19 [==============================] - 5s 255ms/step - loss: 0.0010\n",
      "Epoch 5/10\n",
      "19/19 [==============================] - 5s 257ms/step - loss: 9.6666e-04\n",
      "Epoch 6/10\n",
      "19/19 [==============================] - 5s 253ms/step - loss: 0.0011\n",
      "Epoch 7/10\n",
      "19/19 [==============================] - 5s 253ms/step - loss: 9.4383e-04\n",
      "Epoch 8/10\n",
      "19/19 [==============================] - 5s 255ms/step - loss: 9.8451e-04\n",
      "Epoch 9/10\n",
      "19/19 [==============================] - 5s 257ms/step - loss: 0.0010\n",
      "Epoch 10/10\n",
      "19/19 [==============================] - 5s 255ms/step - loss: 9.0311e-04\n"
     ]
    },
    {
     "data": {
      "text/plain": [
       "<keras.callbacks.History at 0x2893f152380>"
      ]
     },
     "execution_count": 174,
     "metadata": {},
     "output_type": "execute_result"
    }
   ],
   "source": [
    "model.fit( x_train, y_train, epochs=10, batch_size=64 )"
   ]
  },
  {
   "cell_type": "code",
   "execution_count": 175,
   "metadata": {},
   "outputs": [
    {
     "name": "stdout",
     "output_type": "stream",
     "text": [
      "1/1 [==============================] - 0s 76ms/step\n"
     ]
    }
   ],
   "source": [
    "dataset_test = pd.read_csv('Google_Stock_Price_Test.csv')\n",
    "real_stock_price = dataset_test.iloc[:,1:2].values\n",
    "\n",
    "dataset_total = pd.concat( (dataset_train['Open'],dataset_test['Open']), axis=0 )\n",
    "\n",
    "inputs = dataset_total[ len(dataset_total) - len(dataset_test) - 60: ].values\n",
    "inputs = inputs.reshape(-1,1)\n",
    "inputs = sc.transform(inputs)\n",
    "x_test = []\n",
    "\n",
    "for i in range(60,80):\n",
    "    x_test.append( inputs[i-60:i,0] )\n",
    "x_test = np.array(x_test)\n",
    "x_test = np.reshape(x_test, (x_test.shape[0],x_test.shape[1],1))\n",
    "\n",
    "predicted_stock_price = model.predict(x_test)\n",
    "predicted_stock_price = sc.inverse_transform(predicted_stock_price)"
   ]
  },
  {
   "cell_type": "code",
   "execution_count": 176,
   "metadata": {},
   "outputs": [
    {
     "data": {
      "image/png": "[encoded data removed]",
      "text/plain": [
       "<Figure size 1300x200 with 1 Axes>"
      ]
     },
     "metadata": {},
     "output_type": "display_data"
    }
   ],
   "source": [
    "plt.plot(     real_stock_price, color='blue', marker='o', label=     'real_stock_price' )\n",
    "plt.plot(predicted_stock_price, color='red' , marker='o', label='predicted_stock_price' )\n",
    "plt.legend()\n",
    "plt.show()"
   ]
  },
  {
   "cell_type": "markdown",
   "metadata": {},
   "source": [
    "#####   "
   ]
  },
  {
   "cell_type": "markdown",
   "metadata": {},
   "source": [
    "#####   "
   ]
  },
  {
   "cell_type": "markdown",
   "metadata": {},
   "source": [
    "#####   "
   ]
  },
  {
   "cell_type": "markdown",
   "metadata": {},
   "source": [
    "#####   "
   ]
  }
 ],
 "metadata": {
  "kernelspec": {
   "display_name": "Python 3 (ipykernel)",
   "language": "python",
   "name": "python3"
  },
  "language_info": {
   "codemirror_mode": {
    "name": "ipython",
    "version": 3
   },
   "file_extension": ".py",
   "mimetype": "text/x-python",
   "name": "python",
   "nbconvert_exporter": "python",
   "pygments_lexer": "ipython3",
   "version": "3.10.9"
  }
 },
 "nbformat": 4,
 "nbformat_minor": 4
}

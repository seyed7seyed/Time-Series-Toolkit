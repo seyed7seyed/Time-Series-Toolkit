{
 "cells": [
  {
   "cell_type": "code",
   "execution_count": 1,
   "metadata": {},
   "outputs": [],
   "source": [
    "import numpy      as np\n",
    "import pandas     as pd\n",
    "from   pandas     import read_csv\n",
    "\n",
    "import tensorflow as tf\n",
    "from   tensorflow import keras\n",
    "\n",
    "import matplotlib.pyplot as plt "
   ]
  },
  {
   "cell_type": "markdown",
   "metadata": {},
   "source": [
    "##### \n",
    "### Functions"
   ]
  },
  {
   "cell_type": "code",
   "execution_count": 2,
   "metadata": {},
   "outputs": [],
   "source": [
    "# Time-Series Generator\n",
    "def generate_time_series( bSize, nSteps ):  \n",
    "    freq1, freq2, offsets1, offsets2 = np.random.rand(4, bSize, 1)\n",
    "    time = np.linspace(0, 1, nSteps)\n",
    "    series  = 0.5 * np.sin((time - offsets1) * (freq1 * 10 + 10))     #   wave 1\n",
    "    series += 0.2 * np.sin((time - offsets2) * (freq2 * 20 + 20))     # + wave 2\n",
    "    series += 0.1 * (np.random.rand(bSize, nSteps) - 0.5)             # + noise\n",
    "    return series[..., np.newaxis].astype(np.float32)\n",
    "\n",
    "# last_time_step_mse\n",
    "def last_time_step_mse(Y_true, Y_pred):\n",
    "    return keras.metrics.mean_squared_error(Y_true[:, -1], Y_pred[:, -1])"
   ]
  },
  {
   "cell_type": "markdown",
   "metadata": {},
   "source": [
    "##### \n",
    "### Forecasting 1 Time Step Ahead"
   ]
  },
  {
   "cell_type": "code",
   "execution_count": null,
   "metadata": {},
   "outputs": [],
   "source": [
    "bSize  = 10000   # batch_size\n",
    "nSteps = 50      #  n_steps\n",
    "series = generate_time_series( bSize, nSteps+1 )  # (10000, 51, 1)\n",
    " \n",
    "a, b = int(np.round(.7*bSize,0)), int(np.round(.9*bSize,0))\n",
    "\n",
    "X_train, y_train  =  series[  :a, :nSteps ],  series[  :a, -1 ]\n",
    "X_valid, y_valid  =  series[ a:b, :nSteps ],  series[ a:b, -1 ]\n",
    "X_test , y_test   =  series[ b: , :nSteps ],  series[ b: , -1 ]"
   ]
  },
  {
   "cell_type": "code",
   "execution_count": null,
   "metadata": {},
   "outputs": [],
   "source": [
    "# Baseline Metrics   # mse=0.0200    \n",
    "y_pred = X_test[ :, -1 ]\n",
    "MSE = np.mean( keras.losses.mean_squared_error( y_test, y_pred ) )  \n",
    "print('MSE =',np.round(MSE,4))"
   ]
  },
  {
   "cell_type": "code",
   "execution_count": null,
   "metadata": {
    "scrolled": true
   },
   "outputs": [],
   "source": [
    "# linear model   mse=.0035   bias=51 (fast)  \n",
    "model = keras.models.Sequential([           \n",
    "      keras.layers.Flatten( input_shape=[ nSteps, 1 ] )\n",
    "    , keras.layers.Dense( 1 )\n",
    "    ]) \n",
    "model.compile( loss      = \"mse\"\n",
    "             , optimizer = \"adam\"  \n",
    "             )\n",
    "history = model.fit( X_train, y_train\n",
    "                   , epochs          =  20\n",
    "                   , validation_data = (X_valid, y_valid)\n",
    "                   )\n",
    "y_pred = model.predict( X_test )   \n",
    "MSE = np.mean( keras.losses.mean_squared_error( y_test, y_pred ) ) \n",
    "print('\\nMSE =',np.round(MSE,4))"
   ]
  },
  {
   "cell_type": "code",
   "execution_count": null,
   "metadata": {},
   "outputs": [],
   "source": [
    "# Deep RNNs      mse=.0030   (very slow)\n",
    "model = keras.models.Sequential([\n",
    "    \n",
    "      keras.layers.SimpleRNN( 20 \n",
    "                            , return_sequences = True    \n",
    "                            , input_shape = [None, 1] )\n",
    "    \n",
    "    , keras.layers.SimpleRNN( 20 )  \n",
    "    \n",
    "    , keras.layers.Dense( 1 )\n",
    "    \n",
    "    ]) \n",
    "\n",
    "model.compile( loss      = \"mse\"\n",
    "             , optimizer = \"adam\"  \n",
    "             )\n",
    "history = model.fit( X_train, y_train\n",
    "                   , epochs          =  2\n",
    "                   , validation_data = (X_valid, y_valid)\n",
    "                   )\n",
    "\n",
    "y_pred = model.predict( X_test ) \n",
    "MSE = np.mean( keras.losses.mean_squared_error( y_test, y_pred ) ) \n",
    "print('\\nMSE =',np.round(MSE,4))"
   ]
  },
  {
   "cell_type": "markdown",
   "metadata": {},
   "source": [
    "##### \n",
    "### Forecasting N Time Steps Ahead"
   ]
  },
  {
   "cell_type": "code",
   "execution_count": null,
   "metadata": {},
   "outputs": [],
   "source": [
    "bSize  = 10000   # batch_size\n",
    "nSteps = 50      #  n_steps \n",
    "\n",
    "N = 10\n",
    "n_neurons =  np.max( [20, 2*N] )"
   ]
  },
  {
   "cell_type": "code",
   "execution_count": null,
   "metadata": {},
   "outputs": [],
   "source": [
    "# one-record only     MSE=.1500\n",
    "series_1 = generate_time_series( 1, nSteps+N )   # (1, 60, 1)\n",
    "\n",
    "X_new = series_1[ : , :nSteps ]                  # (1, 50, 1)\n",
    "Y_new = series_1[ : , nSteps: ]                  # (1, 10, 1)\n",
    "\n",
    "model = keras.models.Sequential([\n",
    "    \n",
    "      keras.layers.SimpleRNN( n_neurons \n",
    "                            , return_sequences = True    \n",
    "                            , input_shape = [None, 1] )\n",
    "    \n",
    "    , keras.layers.SimpleRNN( n_neurons )  \n",
    "    \n",
    "    , keras.layers.Dense( 1 )\n",
    "    \n",
    "    ])\n",
    "\n",
    "model.compile( loss      = \"mse\"\n",
    "             , optimizer = \"adam\"  \n",
    "             )\n",
    "history = model.fit( X_train, y_train\n",
    "                   , epochs          =  2\n",
    "                   , validation_data = (X_valid, y_valid)\n",
    "                   )\n",
    "\n",
    "X = X_new   \n",
    "for step_ahead in range(N):\n",
    "    y_pred_one = model.predict( X[ : , step_ahead: ])[ : , np.newaxis , : ]\n",
    "    X          = np.concatenate([ X , y_pred_one ], axis=1 )\n",
    "    \n",
    "Y_pred = X[:, nSteps:] \n",
    "MSE = np.mean( keras.losses.mean_squared_error( Y_new, Y_pred ) ) \n",
    "print('\\nMSE =',np.round(MSE,4))"
   ]
  },
  {
   "cell_type": "code",
   "execution_count": null,
   "metadata": {},
   "outputs": [],
   "source": [
    "# a-batch-of-records  MSE=.0300 \n",
    "series = generate_time_series( bSize, nSteps+N )\n",
    " \n",
    "a, b = int(np.round(.7*bSize,0)), int(np.round(.9*bSize,0))\n",
    "\n",
    "Y = np.empty(( bSize, nSteps, N ))  \n",
    "for step_ahead in range( 1, N+1 ):\n",
    "    Y[ : , : , step_ahead-1 ] = series[ : , step_ahead:step_ahead+nSteps, 0 ]\n",
    "\n",
    "X_train, Y_train  =  series[  :a, :nSteps ],  Y[  :a ]\n",
    "X_valid, Y_valid  =  series[ a:b, :nSteps ],  Y[ a:b ]\n",
    "X_test,  Y_test   =  series[ b: , :nSteps ],  Y[ b:  ] \n",
    "\n",
    "model = keras.models.Sequential([\n",
    "    \n",
    "      keras.layers.SimpleRNN( n_neurons \n",
    "                            , return_sequences = True\n",
    "                            , input_shape = [None, 1] )\n",
    "    \n",
    "    , keras.layers.SimpleRNN( n_neurons\n",
    "                            , return_sequences = True )\n",
    "    \n",
    "    , keras.layers.TimeDistributed( keras.layers.Dense(N) )\n",
    "    \n",
    "    ])\n",
    "\n",
    "optimizer = keras.optimizers.Adam( learning_rate=0.01 )\n",
    "model.compile( loss      = \"mse\"\n",
    "             , optimizer =  optimizer\n",
    "             , metrics   = [last_time_step_mse] )\n",
    "history = model.fit( X_train, Y_train\n",
    "                   , epochs          =  2\n",
    "                   , validation_data = (X_valid, Y_valid)\n",
    "                   )\n",
    "\n",
    "Y_pred = model.predict(X_test)   \n",
    "MSE = np.mean( keras.losses.mean_squared_error( Y_test, Y_pred ) ) \n",
    "print('\\nMSE =',np.round(MSE,4))"
   ]
  },
  {
   "cell_type": "markdown",
   "metadata": {},
   "source": [
    "##### \n",
    "## Handling Long Sequences\n",
    "2 Problems:\n",
    "  - unstable gradients problem.\n",
    "  - Short-Term Memory"
   ]
  },
  {
   "cell_type": "code",
   "execution_count": null,
   "metadata": {},
   "outputs": [],
   "source": [
    "# Handling Unstable Gradients  ( 1 Method Only )\n",
    "\n",
    "class LNSimpleRNNCell(keras.layers.Layer):\n",
    "    def __init__(self, units, activation=\"tanh\", **kwargs):\n",
    "        super().__init__(**kwargs)\n",
    "        self.state_size      = units\n",
    "        self.output_size     = units\n",
    "        self.simple_rnn_cell = keras.layers.SimpleRNNCell(units,\n",
    "                                                          activation=None)\n",
    "        self.layer_norm = keras.layers.LayerNormalization()\n",
    "        self.activation = keras.activations.get(activation)\n",
    "    def call(self, inputs, states):\n",
    "        outputs, new_states = self.simple_rnn_cell(inputs, states)\n",
    "        norm_outputs = self.activation(self.layer_norm(outputs))\n",
    "        return norm_outputs, [norm_outputs]\n",
    "\n",
    "model = keras.models.Sequential([\n",
    "    \n",
    "      keras.layers.RNN( LNSimpleRNNCell( n_neurons )\n",
    "                      , return_sequences = True\n",
    "                      , input_shape = [None, 1] )\n",
    "    \n",
    "    , keras.layers.RNN( LNSimpleRNNCell( n_neurons )\n",
    "                      , return_sequences = True )\n",
    "    \n",
    "    , keras.layers.TimeDistributed( keras.layers.Dense(N) )\n",
    "\n",
    "    ])"
   ]
  },
  {
   "cell_type": "code",
   "execution_count": null,
   "metadata": {},
   "outputs": [],
   "source": [
    "# Handling Short-Term Memory  ( 4 Methods )\n",
    "\n",
    "# (1.1)   good   LSTM cells: long-term memory cells \n",
    "model = keras.models.Sequential([\n",
    "      keras.layers.LSTM( 20\n",
    "                       , return_sequences = True\n",
    "                       , input_shape = [None, 1] )\n",
    "      \n",
    "    , keras.layers.LSTM( 20\n",
    "                       , return_sequences = True )\n",
    "    \n",
    "    , keras.layers.TimeDistributed( keras.layers.Dense( N ) )\n",
    "    \n",
    "    ])\n",
    "\n",
    "\n",
    "\n",
    "# (1.2) not-bad  LSTM cells: long-term memory cells \n",
    "model = keras.models.Sequential([\n",
    "    \n",
    "      keras.layers.RNN( keras.layers.LSTMCell( n_neurons )\n",
    "                      , return_sequences = True\n",
    "                      , input_shape = [None, 1] )\n",
    "    \n",
    "    , keras.layers.RNN( keras.layers.LSTMCell( n_neurons )\n",
    "                      , return_sequences = True )\n",
    "    \n",
    "    , keras.layers.TimeDistributed( keras.layers.Dense( N ) )\n",
    "    \n",
    "    ]) \n",
    "\n",
    "\n",
    "\n",
    "# (2) Best   1D convolutional layers \n",
    "model = keras.models.Sequential([    \n",
    "    \n",
    "      keras.layers.Conv1D( filters     =  n_neurons   # default is 20\n",
    "                         , kernel_size =  4\n",
    "                         , strides     =  2\n",
    "                         , padding     = \"valid\"\n",
    "                         , input_shape = [None, 1] )  \n",
    "      \n",
    "    , keras.layers.GRU( n_neurons\n",
    "                      , return_sequences = True )\n",
    "    \n",
    "    , keras.layers.GRU( n_neurons\n",
    "                      , return_sequences = True )\n",
    "    \n",
    "    , keras.layers.TimeDistributed( keras.layers.Dense( N ) )\n",
    "    \n",
    "    ])\n",
    "\n",
    "model.compile( loss      = \"mse\"\n",
    "             , optimizer = \"adam\"\n",
    "             , metrics   = [last_time_step_mse] )\n",
    "\n",
    "history = model.fit( X_train, Y_train[:, 3::2]\n",
    "                   , epochs = 20\n",
    "                   , validation_data = ( X_valid, Y_valid[:, 3::2] ) )\n",
    "\n",
    "\n",
    "\n",
    "# (3) Best   WaveNet \n",
    "model = keras.models.Sequential()\n",
    "\n",
    "model.add( keras.layers.InputLayer(input_shape=[None, 1]) )\n",
    "\n",
    "for rate in (1, 2, 4, 8) * 2:\n",
    "    model.add( keras.layers.Conv1D( filters       =  n_neurons   # default is 20\n",
    "                                  , kernel_size   =   2\n",
    "                                  , padding       = \"causal\"\n",
    "                                  , activation    = \"relu\"\n",
    "                                  , dilation_rate =  rate\n",
    "                                  ))\n",
    "\n",
    "model.add( keras.layers.Conv1D(     filters       =  N   # default is 10\n",
    "                                  , kernel_size   =  1    ))\n",
    "\n",
    "model.compile( loss      = \"mse\"\n",
    "             , optimizer = \"adam\"\n",
    "             , metrics   = [last_time_step_mse]\n",
    "             )\n",
    "\n",
    "history = model.fit( X_train, Y_train\n",
    "                   , epochs          =  20\n",
    "                   , validation_data = (X_valid, Y_valid)\n",
    "                   )"
   ]
  },
  {
   "cell_type": "markdown",
   "metadata": {},
   "source": [
    "##### \n",
    "## Project 1:   Monthly Armed Robberies in Boston"
   ]
  },
  {
   "cell_type": "code",
   "execution_count": 3,
   "metadata": {},
   "outputs": [
    {
     "data": {
      "text/plain": [
       "Month\n",
       "1966-01-01    41\n",
       "1966-02-01    39\n",
       "1966-03-01    50\n",
       "1966-04-01    40\n",
       "1966-05-01    43\n",
       "Name: Robberies, dtype: int64"
      ]
     },
     "execution_count": 3,
     "metadata": {},
     "output_type": "execute_result"
    }
   ],
   "source": [
    "Project_Name = 'Monthly_Robberies'\n",
    "\n",
    "df = read_csv('Monthly-Robberies.csv', header=0, index_col=0, parse_dates=True, squeeze=True)\n",
    "df.head(5)"
   ]
  },
  {
   "cell_type": "code",
   "execution_count": 4,
   "metadata": {},
   "outputs": [
    {
     "data": {
      "text/plain": [
       "array([ 41.,  39.,  50.,  40.,  43.,  38.,  44.,  35.,  39.,  35.,  29.,\n",
       "        49.,  50.,  59.,  63.,  32.,  39.,  47.,  53.,  60.,  57.,  52.,\n",
       "        70.,  90.,  74.,  62.,  55.,  84.,  94.,  70., 108., 139., 120.,\n",
       "        97., 126., 149., 158., 124., 140., 109., 114.,  77., 120., 133.,\n",
       "       110.,  92.,  97.,  78.,  99., 107., 112.,  90.,  98., 125., 155.,\n",
       "       190., 236., 189., 174., 178., 136., 161., 171., 149., 184., 155.,\n",
       "       276., 224., 213., 279., 268., 287., 238., 213., 257., 293., 212.,\n",
       "       246., 353., 339., 308., 247., 257., 322., 298., 273., 312., 249.,\n",
       "       286., 279., 309., 401., 309., 328., 353., 354., 327., 324., 285.,\n",
       "       243., 241., 287., 355., 460., 364., 487., 452., 391., 500., 451.,\n",
       "       375., 372., 302., 316., 398., 394., 431., 431.], dtype=float32)"
      ]
     },
     "execution_count": 4,
     "metadata": {},
     "output_type": "execute_result"
    }
   ],
   "source": [
    "S = df.values.astype('float32') \n",
    "S"
   ]
  },
  {
   "cell_type": "code",
   "execution_count": 5,
   "metadata": {},
   "outputs": [],
   "source": [
    "def under_under( S ): \n",
    "    A = [];\n",
    "    for i in S:\n",
    "        A.append([i])\n",
    "    return A\n",
    "\n",
    "A = under_under( S.copy() )  "
   ]
  },
  {
   "cell_type": "code",
   "execution_count": 6,
   "metadata": {},
   "outputs": [],
   "source": [
    "# New_Series\n",
    "import random as random\n",
    "\n",
    "def New_Series( A ):\n",
    "    New = A.copy()\n",
    "    n = len(New)\n",
    "    for i in range(n):  \n",
    "        r = random.uniform(0.9,1.1)\n",
    "        New[i][0] = New[i][0] * r\n",
    "    return New   \n",
    "\n",
    "B = New_Series( A )  \n",
    "A = under_under( S ) "
   ]
  },
  {
   "cell_type": "code",
   "execution_count": 7,
   "metadata": {},
   "outputs": [],
   "source": [
    "N      = 36\n",
    "nBatch = 20000  \n",
    "\n",
    "Series = []\n",
    "for i in range( nBatch+N ):\n",
    "    A = under_under( S ) \n",
    "    Series.append( New_Series( A ) ) \n",
    "Series = np.array(Series) "
   ]
  },
  {
   "cell_type": "code",
   "execution_count": 8,
   "metadata": {
    "scrolled": true
   },
   "outputs": [
    {
     "name": "stdout",
     "output_type": "stream",
     "text": [
      "Model Defined.\n"
     ]
    }
   ],
   "source": [
    "# (3) Best   WaveNet \n",
    "series = Series.copy()\n",
    "bSize  = series.shape[0]\n",
    "nSteps = series.shape[1]-N\n",
    "n_neurons = max( [20,2*N] )\n",
    "\n",
    "a, b = int(np.round(.7*bSize,0)), int(np.round(.9*bSize,0))\n",
    "\n",
    "Y = np.empty(( bSize, nSteps, N ))  \n",
    "for step_ahead in range( 1, N+1 ):\n",
    "    Y[ : , : , step_ahead-1 ] = series[ : , step_ahead:step_ahead+nSteps, 0 ]\n",
    "\n",
    "X_train, Y_train  =  series[  :a, :nSteps ],  Y[  :a ]\n",
    "X_valid, Y_valid  =  series[ a:b, :nSteps ],  Y[ a:b ]\n",
    "X_test,  Y_test   =  series[ b: , :nSteps ],  Y[ b:  ] \n",
    "\n",
    "\n",
    "\n",
    "model = keras.models.Sequential()\n",
    "\n",
    "model.add( keras.layers.InputLayer(input_shape=[None, 1]) )\n",
    "\n",
    "for rate in (1, 2, 4, 8) * 2:\n",
    "    model.add( keras.layers.Conv1D( filters       =  n_neurons   # default is 20\n",
    "                                  , kernel_size   =   2\n",
    "                                  , padding       = \"causal\"\n",
    "                                  , activation    = \"relu\"\n",
    "                                  , dilation_rate =  rate\n",
    "                                  ))\n",
    "\n",
    "model.add( keras.layers.Conv1D(     filters       =  N   # default is 10\n",
    "                                  , kernel_size   =  1    ))\n",
    "\n",
    "\n",
    "print('Model Defined.')"
   ]
  },
  {
   "cell_type": "markdown",
   "metadata": {},
   "source": [
    "##### "
   ]
  },
  {
   "cell_type": "code",
   "execution_count": null,
   "metadata": {
    "scrolled": true
   },
   "outputs": [],
   "source": [
    "model.compile( loss      = \"mse\"\n",
    "             , optimizer = \"adam\"\n",
    "             , metrics   = [last_time_step_mse]\n",
    "             )\n",
    "history = model.fit( X_train, Y_train\n",
    "                   , epochs          =  5\n",
    "                   , validation_data = (X_valid, Y_valid)\n",
    "                   )"
   ]
  },
  {
   "cell_type": "code",
   "execution_count": 10,
   "metadata": {
    "scrolled": true
   },
   "outputs": [
    {
     "name": "stdout",
     "output_type": "stream",
     "text": [
      "\n",
      "RMSE = 12.9364\n"
     ]
    }
   ],
   "source": [
    "Y_pred = model.predict(X_test)   \n",
    "MSE = np.mean( keras.losses.mean_squared_error( Y_test, Y_pred ) ) \n",
    "print('\\nRMSE =',np.round(MSE**.5,4))"
   ]
  },
  {
   "cell_type": "markdown",
   "metadata": {},
   "source": [
    "##### "
   ]
  },
  {
   "cell_type": "code",
   "execution_count": null,
   "metadata": {},
   "outputs": [],
   "source": [
    "# save weights\n",
    "version = '01'\n",
    "\n",
    "model.save_weights( Project_Name + '_' + version\n",
    "                  , overwrite = True \n",
    "                  , save_format = None \n",
    "                  , options = None \n",
    "                  )"
   ]
  },
  {
   "cell_type": "markdown",
   "metadata": {},
   "source": [
    "##### "
   ]
  },
  {
   "cell_type": "code",
   "execution_count": 9,
   "metadata": {},
   "outputs": [
    {
     "data": {
      "text/plain": [
       "<tensorflow.python.training.tracking.util.CheckpointLoadStatus at 0x4faac70>"
      ]
     },
     "execution_count": 9,
     "metadata": {},
     "output_type": "execute_result"
    }
   ],
   "source": [
    "# load weights\n",
    "version = '99'\n",
    " \n",
    "model.load_weights( Project_Name + '_' + version \n",
    "                  , by_name = False \n",
    "                  , skip_mismatch = False \n",
    "                  , options = None \n",
    "                  )"
   ]
  },
  {
   "cell_type": "code",
   "execution_count": 11,
   "metadata": {
    "scrolled": false
   },
   "outputs": [
    {
     "name": "stdout",
     "output_type": "stream",
     "text": [
      "[ true  pred   diff ]\n",
      "[  257   254   -0.01 ]\n",
      "[  322   317   -0.02 ]\n",
      "[  298   300   0.01 ]\n",
      "[  273   271   -0.01 ]\n",
      "[  312   310   -0.01 ]\n",
      "[  249   248   -0.0 ]\n",
      "[  286   282   -0.01 ]\n",
      "[  279   278   -0.0 ]\n",
      "[  309   308   -0.0 ]\n",
      "[  401   396   -0.01 ]\n",
      "[  309   305   -0.01 ]\n",
      "[  328   326   -0.01 ]\n",
      "[  353   350   -0.01 ]\n",
      "[  354   354   0.0 ]\n",
      "[  327   324   -0.01 ]\n",
      "[  324   323   -0.0 ]\n",
      "[  285   281   -0.01 ]\n",
      "[  243   238   -0.02 ]\n",
      "[  241   238   -0.01 ]\n",
      "[  287   284   -0.01 ]\n",
      "[  355   353   -0.01 ]\n",
      "[  460   457   -0.01 ]\n",
      "[  364   362   -0.01 ]\n",
      "[  487   485   -0.0 ]\n",
      "[  452   449   -0.01 ]\n",
      "[  391   388   -0.01 ]\n",
      "[  500   496   -0.01 ]\n",
      "[  451   445   -0.01 ]\n",
      "[  375   373   -0.01 ]\n",
      "[  372   368   -0.01 ]\n",
      "[  302   300   -0.01 ]\n",
      "[  316   316   0.0 ]\n",
      "[  398   395   -0.01 ]\n",
      "[  394   393   -0.0 ]\n",
      "[  431   428   -0.01 ]\n",
      "[  431   428   -0.01 ]\n"
     ]
    }
   ],
   "source": [
    "print('[ true  pred   diff ]')\n",
    "for i in range(N):\n",
    "    x1 = df.tail(N).values[i]\n",
    "    x2 = int(  np.round(Y_pred[-1][-1])[i]  )\n",
    "    dx = np.round( (x2-x1)/x1 , 2 )\n",
    "    print('[ ', x1,' ', x2,' ',dx, ']')"
   ]
  },
  {
   "cell_type": "code",
   "execution_count": 18,
   "metadata": {},
   "outputs": [],
   "source": [
    "A = np.array([ under_under(  S  ) ])   # either (the same)\n",
    "#A = np.array([ under_under( S[N:] ) ])   #   or   (the same)\n",
    "\n",
    "Y_preds = model.predict( A ) \n",
    "Preds = np.round( Y_preds[-1][-1],0 )"
   ]
  },
  {
   "cell_type": "code",
   "execution_count": 19,
   "metadata": {},
   "outputs": [
    {
     "data": {
      "image/png": "[encoded data removed]",
      "text/plain": [
       "<Figure size 864x360 with 1 Axes>"
      ]
     },
     "metadata": {
      "needs_background": "light"
     },
     "output_type": "display_data"
    }
   ],
   "source": [
    "fig, ax = plt.subplots(figsize=(12,5))\n",
    "\n",
    "ax.plot(  range(len(S)), S\n",
    "        , lw=3, c='r', ls='-'\n",
    "        , marker='o', markersize=8\n",
    "        , mec='red' , mew=1, mfc='yellow')\n",
    "\n",
    "ax.plot(  np.arange(len(S),len(S)+N), Preds\n",
    "        , lw=3, c='g', ls='-'\n",
    "        , marker='o', markersize=8\n",
    "        , mec='blue', mew=1, mfc='yellow' )\n",
    "plt.xlim([-2,len(S)+N+2])\n",
    "plt.ylim([0,950])\n",
    "\n",
    "plt.savefig( Project_Name+'_Version_'+version+'_.png', dpi=120 )\n",
    "plt.show()"
   ]
  },
  {
   "cell_type": "markdown",
   "metadata": {},
   "source": [
    "##### "
   ]
  }
 ],
 "metadata": {
  "kernelspec": {
   "display_name": "Python 3",
   "language": "python",
   "name": "python3"
  },
  "language_info": {
   "codemirror_mode": {
    "name": "ipython",
    "version": 3
   },
   "file_extension": ".py",
   "mimetype": "text/x-python",
   "name": "python",
   "nbconvert_exporter": "python",
   "pygments_lexer": "ipython3",
   "version": "3.8.5"
  }
 },
 "nbformat": 4,
 "nbformat_minor": 4
}
